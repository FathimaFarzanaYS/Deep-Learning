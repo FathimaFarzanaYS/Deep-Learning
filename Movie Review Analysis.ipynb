{
 "cells": [
  {
   "cell_type": "code",
   "execution_count": 2,
   "id": "53ea9f2c",
   "metadata": {},
   "outputs": [],
   "source": [
    "import numpy as np\n",
    "import pandas as pd\n",
    "import matplotlib.pyplot as plt\n",
    "import seaborn as sns\n",
    "from sklearn.model_selection import train_test_split\n",
    "import re\n",
    "from nltk.corpus import stopwords\n",
    "from nltk.stem import WordNetLemmatizer\n",
    "from sklearn.preprocessing import LabelBinarizer\n",
    "from keras.preprocessing.text import Tokenizer\n",
    "from tensorflow.keras.preprocessing.sequence import pad_sequences\n",
    "from keras import Sequential\n",
    "from keras import layers\n",
    "from sklearn.metrics import confusion_matrix, classification_report, accuracy_score"
   ]
  },
  {
   "cell_type": "code",
   "execution_count": 3,
   "id": "9c20c417",
   "metadata": {},
   "outputs": [],
   "source": [
    "df=pd.read_csv('movie_data.csv')"
   ]
  },
  {
   "cell_type": "code",
   "execution_count": 4,
   "id": "67e2cd63",
   "metadata": {},
   "outputs": [
    {
     "data": {
      "text/html": [
       "<div>\n",
       "<style scoped>\n",
       "    .dataframe tbody tr th:only-of-type {\n",
       "        vertical-align: middle;\n",
       "    }\n",
       "\n",
       "    .dataframe tbody tr th {\n",
       "        vertical-align: top;\n",
       "    }\n",
       "\n",
       "    .dataframe thead th {\n",
       "        text-align: right;\n",
       "    }\n",
       "</style>\n",
       "<table border=\"1\" class=\"dataframe\">\n",
       "  <thead>\n",
       "    <tr style=\"text-align: right;\">\n",
       "      <th></th>\n",
       "      <th>review</th>\n",
       "      <th>sentiment</th>\n",
       "    </tr>\n",
       "  </thead>\n",
       "  <tbody>\n",
       "    <tr>\n",
       "      <th>0</th>\n",
       "      <td>This movie is just crap. Even though the direc...</td>\n",
       "      <td>0</td>\n",
       "    </tr>\n",
       "    <tr>\n",
       "      <th>1</th>\n",
       "      <td>Another detailed work on the subject by Dr Dwi...</td>\n",
       "      <td>1</td>\n",
       "    </tr>\n",
       "    <tr>\n",
       "      <th>2</th>\n",
       "      <td>THE CAT O'NINE TAILS (Il Gatto a Nove Code) &lt;b...</td>\n",
       "      <td>0</td>\n",
       "    </tr>\n",
       "    <tr>\n",
       "      <th>3</th>\n",
       "      <td>Like with any movie genre, there are good gang...</td>\n",
       "      <td>0</td>\n",
       "    </tr>\n",
       "    <tr>\n",
       "      <th>4</th>\n",
       "      <td>I watched it with my mom and we were like...&lt;b...</td>\n",
       "      <td>0</td>\n",
       "    </tr>\n",
       "  </tbody>\n",
       "</table>\n",
       "</div>"
      ],
      "text/plain": [
       "                                              review  sentiment\n",
       "0  This movie is just crap. Even though the direc...          0\n",
       "1  Another detailed work on the subject by Dr Dwi...          1\n",
       "2  THE CAT O'NINE TAILS (Il Gatto a Nove Code) <b...          0\n",
       "3  Like with any movie genre, there are good gang...          0\n",
       "4  I watched it with my mom and we were like...<b...          0"
      ]
     },
     "execution_count": 4,
     "metadata": {},
     "output_type": "execute_result"
    }
   ],
   "source": [
    "df.head()"
   ]
  },
  {
   "cell_type": "code",
   "execution_count": 5,
   "id": "cf34ffd4",
   "metadata": {},
   "outputs": [
    {
     "data": {
      "text/plain": [
       "review       0\n",
       "sentiment    0\n",
       "dtype: int64"
      ]
     },
     "execution_count": 5,
     "metadata": {},
     "output_type": "execute_result"
    }
   ],
   "source": [
    "df.isna().sum()"
   ]
  },
  {
   "cell_type": "code",
   "execution_count": 6,
   "id": "8f2c980c",
   "metadata": {},
   "outputs": [
    {
     "name": "stdout",
     "output_type": "stream",
     "text": [
      "<class 'pandas.core.frame.DataFrame'>\n",
      "RangeIndex: 49969 entries, 0 to 49968\n",
      "Data columns (total 2 columns):\n",
      " #   Column     Non-Null Count  Dtype \n",
      "---  ------     --------------  ----- \n",
      " 0   review     49969 non-null  object\n",
      " 1   sentiment  49969 non-null  int64 \n",
      "dtypes: int64(1), object(1)\n",
      "memory usage: 780.9+ KB\n"
     ]
    }
   ],
   "source": [
    "df.info()"
   ]
  },
  {
   "cell_type": "code",
   "execution_count": 7,
   "id": "e9e1c861",
   "metadata": {
    "scrolled": false
   },
   "outputs": [
    {
     "name": "stdout",
     "output_type": "stream",
     "text": [
      "This movie is just crap. Even though the directors claim to be part of that oi-culture, it's still a very, very bad directorial debut. The topic itself is very interesting and I accept the bad acting due to the fact, that they are all amateurs and never acted before, but the worst thing about this film are the dialogs and very unexperienced and naive directing. There's no timing at all in that movie. I felt like the directors were so exited to do that movie (it's their first feature), that they actually never really asked themselves, what story they wanna tell. I met Ben (one of the directors) on several occasions and he's a nice and thoughtful guy, but that doesn't make him a director. I think, that \"American History X\" is full of clichÃ©s, but somehow manages to transport a story. \"Oi!Warning\" is full of clichÃ©s, doesn't tell anything new or provocative and (-that's the sad thing about this movie) it's far from any Oi!-Reality.<br /><br />If you wanna see weird but great German films, watch the movies of Michael Haneke, Christoph Schlingensief, Oskar Roehler, Hans Weingartner or Oliver Hirschbiegel:<br /><br />Benny's Video Funny Games Die UnberÃ¼hrbare Mein Letzter Film Das Experiment Das Weisse Rauschen MuxmÃ¤uschenstill ...<br /><br />*** out of ten, because of the topic and the photography - 0\n",
      "\n",
      "Another detailed work on the subject by Dr Dwivedi takes us back in time to pre-partioned Panjab. Dr Dwivedi chose a difficult subject for his movie debut. He has worked on all meticulous details to bring the story to life. The treatment of the subject is very delicate.<br /><br />Even though we have not been to the region during that time, the sets and costumes look real. Unlike most movies made on partition, this one focuses not on the gory details of violence to attract audience, but on its after-effects. The characters come to life. Priyanshu Chatterjee has given an impressive performance. Manoj Bajpai has acted his heart out showing the plight of a guilt-ridden man. The rest of the cast has done a good job too. - 1\n",
      "\n",
      "THE CAT O'NINE TAILS (Il Gatto a Nove Code) <br /><br />Aspect ratio: 2.35:1 (Cromoscope)<br /><br />Sound format: Mono<br /><br />(35mm and 70mm release prints)<br /><br />A blind ex-journalist (Karl Malden) overhears a blackmail plot outside a genetics research laboratory and later teams up with a fellow reporter (James Franciscus) to investigate a series of murders at the lab, unwittingly placing their own loved ones at the mercy of a psychopathic killer.<br /><br />Rushed into production following the unexpected worldwide success of his directorial debut THE BIRD WITH THE CRYSTAL PLUMAGE (1969), Dario Argento conceived THE CAT O'NINE TAILS as a giallo-thriller in much the same vein as its forerunner, toplining celebrated Hollywood actor Karl Malden - fresh from his appearance in PATTON (1969) - and rising star Franciscus (THE VALLEY OF GWANGI). Sadly, the resulting film - which the ads claimed was 'nine times more suspenseful' than \"Bird\" - is a disappointing follow-up, impeccably photographed and stylishly executed, but too plodding and aimless for general consumption.<br /><br />Malden and Franciscus are eminently watchable in sympathetic roles, and cinematographer Enrico Menczer (THE DEAD ARE ALIVE) uses the wide Cromoscope frame to convey the hi-tech world in which Argento's dark-hearted scenario unfolds, but the subplot involving Euro starlet Catherine Spaak (THE LIBERTINE) as Franciscus' romantic interest amounts to little more than unnecessary padding. Highlights include an unforgettable encounter with the black-gloved assassin in a crowded railway station (edited with sleek assurance by cult movie stalwart Franco Fraticelli), and a nocturnal episode in which Malden and Franciscus seek an important clue inside a mouldering tomb and fall prey to the killer's devious machinations. But despite these flashes of brilliance, the film rambles aimlessly from one scene to the next, simmering gently without ever really coming to the boil. It's no surprise that \"Cat\" failed to emulate the runaway success of \"Bird\" when released in 1971.<br /><br />(English version) - 0\n",
      "\n",
      "Like with any movie genre, there are good gangster movies and there are bad gangster movies. If you asked me to name a good gangster movie, I'd have dozens to choose from. If you asked me to name a bad gangster movie, probably the first one to pop up in my mind is one that still has me in a sort of depression of disappointment about a week since I saw the film for the first and I promise you, the last time. That film is \"The General\", unrelated to the 1926 silent film of the same name. This is a very dry, very slow gangster epic that raises questions not about the story (it's more than easy to follow) but about why the filmmakers chose to make this rather flimsy endeavor.<br /><br />Like \"Goodfellas\" (1990) and \"American Gangster\" (2007)Â—two superior mob moviesÂ—\"The General\" is based on real people and true events. The film revolves around an Irish criminal named Martin Cahill (Brendan Gleeson) who started his long chain of crimes stealing food as a teenager and then moving up to robbing museums and houses as an adult. Meanwhile, the police led by an inspector named Kenny (Jon Voight) try desperately and vigorously to prove just one of his crimes and convict (or kill) him.<br /><br />Perhaps because it's a film in the same category as the marvelous \"Goodfellas\" (1990) and the first two \"Godfather\" films, I was expecting too much from \"The General.\" But that may be going too easy on it. This would have been a bad film had I not seen the aforementioned masterpieces before being swamped by boredom in this oater and its far-too-stretched running time of screaming bad scenes. Let's start knocking the film by just looking at the style in which it is presented. For some reason, director John Boorman and cinematographer Seamus Deasy selected to film this movie in black-and-white while its style and presentation are clearly the elements that belong to a full-fledged color film. Now I have nothing against b/w pictures, not even ones made in modern-day times. \"Schindler's List\" (1993) was more than ninety percent filmed in black-and-white and it's a masterpiece. \"The General\", made just five years after \"Schindler's List\" is not. The cinematography is also far too blown out with high lighting keys that seem very distracting and give the movie a very video-game-like quality that I found simply annoying. The filmmakers were obviously going for a realist's documentary-like style, like \"Schindler's List\" did, but they fail by making it seem too much like a documentary and at the same time, too much like a classic-style motion picture. Performances in the film range from passable to poor. Brendan Gleeson and Jon Voight gave decent enthusiasm for their roles, but it seemed to me at times that even they were getting kind of run down by the awful screenplay from which they were quoting. The sound design is also very primitive, probably in an attempt to give it a 40s crime-noir appeal, but that also fails because again, it's made too much like a contemporary picture and seems vastly out of place.<br /><br />But the worst thing that occurs is that there's not oneÂ—not oneÂ—character in the film that I felt any emotions or opinions for. In fact, for every moment of every scene, the only thought going through my head was \"okayÂ…so what?\" Moments that in a better film might come across as shocking or appalling are just dull and time-consuming here. I did not sympathize or hate the Brendan Gleeson character because the way the Cahill character is written is simply flat and dull. Gleeson just plays the common criminal and does not strike out with the impact the real Martin Cahill obviously did. If a character is killed off (as they always are in gangster films), we feel nothing. No remorse, no relief, no surprise, nothing. We just say \"so what?\" And that's all I did during the entire running time of this very flimsy, very poorly-made crime film. - 0\n",
      "\n",
      "I watched it with my mom and we were like...<br /><br />What the hell? We didn't get it at all. I may have this wrong, but a chair had something to do with the death of this woman's father. That movie was terrible! This is not a movie for those who love a good suspense movie. Bad suspense movie! *shakes cane at movie* I'm never seeing it again. And I'm a big fan of lifetime movies, too! They kinda need to quit trying to make movies outta books. It's driving me crazy!!!<br /><br />And Whit was butt-ugly and yet, she loves him more than Hugh, who was a TINY bit nicer-looking.<br /><br />My rating: 1/10 - 0\n",
      "\n"
     ]
    }
   ],
   "source": [
    "for i in range(5):\n",
    "    print(df['review'][i],'-',df['sentiment'][i])\n",
    "    print()"
   ]
  },
  {
   "cell_type": "code",
   "execution_count": 8,
   "id": "93978c64",
   "metadata": {},
   "outputs": [],
   "source": [
    "def preprocess(sentence):\n",
    "    text = re.sub(r\"[^a-zA-Z0-9]\",\" \",sentence).split()\n",
    "    words = [x.lower() for x in text]\n",
    "    word = ' '.join(words)\n",
    "    return word"
   ]
  },
  {
   "cell_type": "code",
   "execution_count": 9,
   "id": "3b3d8e91",
   "metadata": {},
   "outputs": [],
   "source": [
    "df['review']=df['review'].apply(preprocess)"
   ]
  },
  {
   "cell_type": "code",
   "execution_count": 10,
   "id": "f4b6911c",
   "metadata": {},
   "outputs": [
    {
     "name": "stdout",
     "output_type": "stream",
     "text": [
      "this movie is just crap even though the directors claim to be part of that oi culture it s still a very very bad directorial debut the topic itself is very interesting and i accept the bad acting due to the fact that they are all amateurs and never acted before but the worst thing about this film are the dialogs and very unexperienced and naive directing there s no timing at all in that movie i felt like the directors were so exited to do that movie it s their first feature that they actually never really asked themselves what story they wanna tell i met ben one of the directors on several occasions and he s a nice and thoughtful guy but that doesn t make him a director i think that american history x is full of clich s but somehow manages to transport a story oi warning is full of clich s doesn t tell anything new or provocative and that s the sad thing about this movie it s far from any oi reality br br if you wanna see weird but great german films watch the movies of michael haneke christoph schlingensief oskar roehler hans weingartner or oliver hirschbiegel br br benny s video funny games die unber hrbare mein letzter film das experiment das weisse rauschen muxm uschenstill br br out of ten because of the topic and the photography - 0\n",
      "\n",
      "another detailed work on the subject by dr dwivedi takes us back in time to pre partioned panjab dr dwivedi chose a difficult subject for his movie debut he has worked on all meticulous details to bring the story to life the treatment of the subject is very delicate br br even though we have not been to the region during that time the sets and costumes look real unlike most movies made on partition this one focuses not on the gory details of violence to attract audience but on its after effects the characters come to life priyanshu chatterjee has given an impressive performance manoj bajpai has acted his heart out showing the plight of a guilt ridden man the rest of the cast has done a good job too - 1\n",
      "\n",
      "the cat o nine tails il gatto a nove code br br aspect ratio 2 35 1 cromoscope br br sound format mono br br 35mm and 70mm release prints br br a blind ex journalist karl malden overhears a blackmail plot outside a genetics research laboratory and later teams up with a fellow reporter james franciscus to investigate a series of murders at the lab unwittingly placing their own loved ones at the mercy of a psychopathic killer br br rushed into production following the unexpected worldwide success of his directorial debut the bird with the crystal plumage 1969 dario argento conceived the cat o nine tails as a giallo thriller in much the same vein as its forerunner toplining celebrated hollywood actor karl malden fresh from his appearance in patton 1969 and rising star franciscus the valley of gwangi sadly the resulting film which the ads claimed was nine times more suspenseful than bird is a disappointing follow up impeccably photographed and stylishly executed but too plodding and aimless for general consumption br br malden and franciscus are eminently watchable in sympathetic roles and cinematographer enrico menczer the dead are alive uses the wide cromoscope frame to convey the hi tech world in which argento s dark hearted scenario unfolds but the subplot involving euro starlet catherine spaak the libertine as franciscus romantic interest amounts to little more than unnecessary padding highlights include an unforgettable encounter with the black gloved assassin in a crowded railway station edited with sleek assurance by cult movie stalwart franco fraticelli and a nocturnal episode in which malden and franciscus seek an important clue inside a mouldering tomb and fall prey to the killer s devious machinations but despite these flashes of brilliance the film rambles aimlessly from one scene to the next simmering gently without ever really coming to the boil it s no surprise that cat failed to emulate the runaway success of bird when released in 1971 br br english version - 0\n",
      "\n",
      "like with any movie genre there are good gangster movies and there are bad gangster movies if you asked me to name a good gangster movie i d have dozens to choose from if you asked me to name a bad gangster movie probably the first one to pop up in my mind is one that still has me in a sort of depression of disappointment about a week since i saw the film for the first and i promise you the last time that film is the general unrelated to the 1926 silent film of the same name this is a very dry very slow gangster epic that raises questions not about the story it s more than easy to follow but about why the filmmakers chose to make this rather flimsy endeavor br br like goodfellas 1990 and american gangster 2007 two superior mob movies the general is based on real people and true events the film revolves around an irish criminal named martin cahill brendan gleeson who started his long chain of crimes stealing food as a teenager and then moving up to robbing museums and houses as an adult meanwhile the police led by an inspector named kenny jon voight try desperately and vigorously to prove just one of his crimes and convict or kill him br br perhaps because it s a film in the same category as the marvelous goodfellas 1990 and the first two godfather films i was expecting too much from the general but that may be going too easy on it this would have been a bad film had i not seen the aforementioned masterpieces before being swamped by boredom in this oater and its far too stretched running time of screaming bad scenes let s start knocking the film by just looking at the style in which it is presented for some reason director john boorman and cinematographer seamus deasy selected to film this movie in black and white while its style and presentation are clearly the elements that belong to a full fledged color film now i have nothing against b w pictures not even ones made in modern day times schindler s list 1993 was more than ninety percent filmed in black and white and it s a masterpiece the general made just five years after schindler s list is not the cinematography is also far too blown out with high lighting keys that seem very distracting and give the movie a very video game like quality that i found simply annoying the filmmakers were obviously going for a realist s documentary like style like schindler s list did but they fail by making it seem too much like a documentary and at the same time too much like a classic style motion picture performances in the film range from passable to poor brendan gleeson and jon voight gave decent enthusiasm for their roles but it seemed to me at times that even they were getting kind of run down by the awful screenplay from which they were quoting the sound design is also very primitive probably in an attempt to give it a 40s crime noir appeal but that also fails because again it s made too much like a contemporary picture and seems vastly out of place br br but the worst thing that occurs is that there s not one not one character in the film that i felt any emotions or opinions for in fact for every moment of every scene the only thought going through my head was okay so what moments that in a better film might come across as shocking or appalling are just dull and time consuming here i did not sympathize or hate the brendan gleeson character because the way the cahill character is written is simply flat and dull gleeson just plays the common criminal and does not strike out with the impact the real martin cahill obviously did if a character is killed off as they always are in gangster films we feel nothing no remorse no relief no surprise nothing we just say so what and that s all i did during the entire running time of this very flimsy very poorly made crime film - 0\n",
      "\n",
      "i watched it with my mom and we were like br br what the hell we didn t get it at all i may have this wrong but a chair had something to do with the death of this woman s father that movie was terrible this is not a movie for those who love a good suspense movie bad suspense movie shakes cane at movie i m never seeing it again and i m a big fan of lifetime movies too they kinda need to quit trying to make movies outta books it s driving me crazy br br and whit was butt ugly and yet she loves him more than hugh who was a tiny bit nicer looking br br my rating 1 10 - 0\n",
      "\n"
     ]
    }
   ],
   "source": [
    "for i in range(5):\n",
    "    print(df['review'][i],'-',df['sentiment'][i])\n",
    "    print()"
   ]
  },
  {
   "cell_type": "code",
   "execution_count": 11,
   "id": "552372b2",
   "metadata": {},
   "outputs": [],
   "source": [
    "X=df['review']\n",
    "y=df['sentiment']"
   ]
  },
  {
   "cell_type": "code",
   "execution_count": 12,
   "id": "e1a0e7e0",
   "metadata": {},
   "outputs": [
    {
     "data": {
      "text/plain": [
       "0        this movie is just crap even though the direct...\n",
       "1        another detailed work on the subject by dr dwi...\n",
       "2        the cat o nine tails il gatto a nove code br b...\n",
       "3        like with any movie genre there are good gangs...\n",
       "4        i watched it with my mom and we were like br b...\n",
       "                               ...                        \n",
       "49964    this movie is terrible it s about some no brai...\n",
       "49965    well what was fun except for the fun part br b...\n",
       "49966    by the time this film was released i had seen ...\n",
       "49967    well if you like pop punk punk ska and a tad b...\n",
       "49968    where this movie is faithful to burroughs visi...\n",
       "Name: review, Length: 49969, dtype: object"
      ]
     },
     "execution_count": 12,
     "metadata": {},
     "output_type": "execute_result"
    }
   ],
   "source": [
    "X"
   ]
  },
  {
   "cell_type": "code",
   "execution_count": 13,
   "id": "7f240f59",
   "metadata": {},
   "outputs": [
    {
     "data": {
      "text/plain": [
       "0        0\n",
       "1        1\n",
       "2        0\n",
       "3        0\n",
       "4        0\n",
       "        ..\n",
       "49964    0\n",
       "49965    0\n",
       "49966    0\n",
       "49967    0\n",
       "49968    1\n",
       "Name: sentiment, Length: 49969, dtype: int64"
      ]
     },
     "execution_count": 13,
     "metadata": {},
     "output_type": "execute_result"
    }
   ],
   "source": [
    "y"
   ]
  },
  {
   "cell_type": "code",
   "execution_count": 14,
   "id": "fd0c3e84",
   "metadata": {},
   "outputs": [
    {
     "data": {
      "text/plain": [
       "<Axes: xlabel='count', ylabel='sentiment'>"
      ]
     },
     "execution_count": 14,
     "metadata": {},
     "output_type": "execute_result"
    },
    {
     "data": {
      "image/png": "[encoded data removed]",
      "text/plain": [
       "<Figure size 640x480 with 1 Axes>"
      ]
     },
     "metadata": {},
     "output_type": "display_data"
    }
   ],
   "source": [
    "sns.countplot(y=df['sentiment'])"
   ]
  },
  {
   "cell_type": "code",
   "execution_count": 15,
   "id": "987ffad2",
   "metadata": {},
   "outputs": [],
   "source": [
    "X_train,X_test,y_train,y_test=train_test_split(X,y,test_size=0.2)"
   ]
  },
  {
   "cell_type": "code",
   "execution_count": 16,
   "id": "e819ea2a",
   "metadata": {},
   "outputs": [],
   "source": [
    "tokenizer=Tokenizer(num_words=5000)"
   ]
  },
  {
   "cell_type": "code",
   "execution_count": 17,
   "id": "4bb56fbf",
   "metadata": {},
   "outputs": [],
   "source": [
    "tokenizer.fit_on_texts(X)"
   ]
  },
  {
   "cell_type": "code",
   "execution_count": 18,
   "id": "9aebf564",
   "metadata": {},
   "outputs": [],
   "source": [
    "vocab_size=len(tokenizer.word_index)+1"
   ]
  },
  {
   "cell_type": "code",
   "execution_count": 19,
   "id": "df4fc269",
   "metadata": {},
   "outputs": [],
   "source": [
    "def text_encoding(txt):\n",
    "    encoded_docs=tokenizer.texts_to_sequences(txt)\n",
    "    padded_sequence=pad_sequences(encoded_docs,maxlen=128)\n",
    "    \n",
    "    return padded_sequence"
   ]
  },
  {
   "cell_type": "code",
   "execution_count": 20,
   "id": "3aa6129a",
   "metadata": {},
   "outputs": [],
   "source": [
    "X_train = text_encoding(X_train)\n",
    "X_test = text_encoding(X_test)"
   ]
  },
  {
   "cell_type": "code",
   "execution_count": 21,
   "id": "f963478d",
   "metadata": {},
   "outputs": [],
   "source": [
    "model = Sequential()\n",
    "\n",
    "model.add(layers.Embedding(vocab_size, 300))\n",
    "\n",
    "model.add(layers.GRU(300,  return_sequences=True))\n",
    "model.add(layers.Dropout(0.2))\n",
    "\n",
    "model.add(layers.GRU(300))\n",
    "model.add(layers.Dropout(0.2))\n",
    "\n",
    "model.add(layers.Dense(32, activation = 'relu'))\n",
    "model.add(layers.Dropout(0.2))\n",
    "\n",
    "model.add(layers.Dense(2, activation='softmax'))"
   ]
  },
  {
   "cell_type": "code",
   "execution_count": 22,
   "id": "53e78144",
   "metadata": {},
   "outputs": [
    {
     "name": "stdout",
     "output_type": "stream",
     "text": [
      "Model: \"sequential\"\n",
      "_________________________________________________________________\n",
      " Layer (type)                Output Shape              Param #   \n",
      "=================================================================\n",
      " embedding (Embedding)       (None, None, 300)         30350100  \n",
      "                                                                 \n",
      " gru (GRU)                   (None, None, 300)         541800    \n",
      "                                                                 \n",
      " dropout (Dropout)           (None, None, 300)         0         \n",
      "                                                                 \n",
      " gru_1 (GRU)                 (None, 300)               541800    \n",
      "                                                                 \n",
      " dropout_1 (Dropout)         (None, 300)               0         \n",
      "                                                                 \n",
      " dense (Dense)               (None, 32)                9632      \n",
      "                                                                 \n",
      " dropout_2 (Dropout)         (None, 32)                0         \n",
      "                                                                 \n",
      " dense_1 (Dense)             (None, 2)                 66        \n",
      "                                                                 \n",
      "=================================================================\n",
      "Total params: 31,443,398\n",
      "Trainable params: 31,443,398\n",
      "Non-trainable params: 0\n",
      "_________________________________________________________________\n"
     ]
    }
   ],
   "source": [
    "model.summary()"
   ]
  },
  {
   "cell_type": "code",
   "execution_count": 27,
   "id": "f27e5c6f",
   "metadata": {},
   "outputs": [],
   "source": [
    "model.compile(loss = 'sparse_categorical_crossentropy', optimizer = 'adam', metrics = ['accuracy'])"
   ]
  },
  {
   "cell_type": "code",
   "execution_count": 28,
   "id": "2b301d5b",
   "metadata": {},
   "outputs": [
    {
     "name": "stdout",
     "output_type": "stream",
     "text": [
      "Epoch 1/5\n",
      "1000/1000 [==============================] - 1657s 2s/step - loss: 0.4090 - accuracy: 0.8114 - val_loss: 0.3126 - val_accuracy: 0.8667\n",
      "Epoch 2/5\n",
      "1000/1000 [==============================] - 1694s 2s/step - loss: 0.2518 - accuracy: 0.9003 - val_loss: 0.2802 - val_accuracy: 0.8826\n",
      "Epoch 3/5\n",
      "1000/1000 [==============================] - 1240s 1s/step - loss: 0.1900 - accuracy: 0.9275 - val_loss: 0.3394 - val_accuracy: 0.8750\n",
      "Epoch 4/5\n",
      "1000/1000 [==============================] - 1040s 1s/step - loss: 0.1365 - accuracy: 0.9509 - val_loss: 0.3544 - val_accuracy: 0.8714\n",
      "Epoch 5/5\n",
      "1000/1000 [==============================] - 780s 780ms/step - loss: 0.0964 - accuracy: 0.9666 - val_loss: 0.4740 - val_accuracy: 0.8653\n"
     ]
    },
    {
     "data": {
      "text/plain": [
       "<keras.callbacks.History at 0x23b835017b0>"
      ]
     },
     "execution_count": 28,
     "metadata": {},
     "output_type": "execute_result"
    }
   ],
   "source": [
    "model.fit(X_train, y_train, epochs=5, validation_split = 0.2)"
   ]
  },
  {
   "cell_type": "code",
   "execution_count": 29,
   "id": "101fc32a",
   "metadata": {},
   "outputs": [
    {
     "name": "stdout",
     "output_type": "stream",
     "text": [
      "313/313 [==============================] - 44s 138ms/step\n"
     ]
    }
   ],
   "source": [
    "y_pred = model.predict(X_test)"
   ]
  },
  {
   "cell_type": "code",
   "execution_count": 31,
   "id": "7586cdd4",
   "metadata": {},
   "outputs": [],
   "source": [
    "y_pred=[np.argmax(i) for i in y_pred]"
   ]
  },
  {
   "cell_type": "code",
   "execution_count": 34,
   "id": "bcc1f4c3",
   "metadata": {},
   "outputs": [
    {
     "data": {
      "text/plain": [
       "0.8668200920552331"
      ]
     },
     "execution_count": 34,
     "metadata": {},
     "output_type": "execute_result"
    }
   ],
   "source": [
    "accuracy_score(y_test, y_pred)"
   ]
  },
  {
   "cell_type": "code",
   "execution_count": 36,
   "id": "3551de39",
   "metadata": {},
   "outputs": [
    {
     "data": {
      "image/png": "[encoded data removed]",
      "text/plain": [
       "<Figure size 800x600 with 2 Axes>"
      ]
     },
     "metadata": {},
     "output_type": "display_data"
    }
   ],
   "source": [
    "plt.figure(figsize = (8,6))\n",
    "sns.heatmap(confusion_matrix(y_test, y_pred), annot = True, fmt = 'd')\n",
    "plt.show()"
   ]
  },
  {
   "cell_type": "code",
   "execution_count": 37,
   "id": "2f33ca8e",
   "metadata": {},
   "outputs": [
    {
     "name": "stdout",
     "output_type": "stream",
     "text": [
      "              precision    recall  f1-score   support\n",
      "\n",
      "           0       0.91      0.82      0.86      5034\n",
      "           1       0.83      0.92      0.87      4960\n",
      "\n",
      "    accuracy                           0.87      9994\n",
      "   macro avg       0.87      0.87      0.87      9994\n",
      "weighted avg       0.87      0.87      0.87      9994\n",
      "\n"
     ]
    }
   ],
   "source": [
    "print(classification_report(y_test, y_pred))"
   ]
  }
 ],
 "metadata": {
  "kernelspec": {
   "display_name": "Python 3 (ipykernel)",
   "language": "python",
   "name": "python3"
  },
  "language_info": {
   "codemirror_mode": {
    "name": "ipython",
    "version": 3
   },
   "file_extension": ".py",
   "mimetype": "text/x-python",
   "name": "python",
   "nbconvert_exporter": "python",
   "pygments_lexer": "ipython3",
   "version": "3.10.9"
  }
 },
 "nbformat": 4,
 "nbformat_minor": 5
}
